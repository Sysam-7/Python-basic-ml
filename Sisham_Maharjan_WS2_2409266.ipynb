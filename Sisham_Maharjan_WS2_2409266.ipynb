{
  "nbformat": 4,
  "nbformat_minor": 0,
  "metadata": {
    "colab": {
      "provenance": []
    },
    "kernelspec": {
      "name": "python3",
      "display_name": "Python 3"
    },
    "language_info": {
      "name": "python"
    }
  },
  "cells": [
    {
      "cell_type": "markdown",
      "source": [
        "3.1 Warming Up Exercises - Basic Inspection and Exploration: Problem 1 - Data Read, Write and Inspect: Complete all following Task:\n",
        "\n",
        "• Dataset for the Task: \"bank.csv\"\n",
        "\n",
        "1. Load the provided dataset and import in pandas DataFrame."
      ],
      "metadata": {
        "id": "PQYYBKzXCXUk"
      }
    },
    {
      "cell_type": "code",
      "execution_count": null,
      "metadata": {
        "colab": {
          "base_uri": "https://localhost:8080/"
        },
        "id": "kOYRajvKCQts",
        "outputId": "bb62e3f7-7a65-4994-a4b1-7f070093ac3c"
      },
      "outputs": [
        {
          "output_type": "stream",
          "name": "stdout",
          "text": [
            "   age           job  marital  education default  balance housing loan  \\\n",
            "0   58    management  married   tertiary      no     2143     yes   no   \n",
            "1   44    technician   single  secondary      no       29     yes   no   \n",
            "2   33  entrepreneur  married  secondary      no        2     yes  yes   \n",
            "3   47   blue-collar  married    unknown      no     1506     yes   no   \n",
            "4   33       unknown   single    unknown      no        1      no   no   \n",
            "\n",
            "   contact  day month  duration  campaign  pdays  previous poutcome   y  \n",
            "0  unknown    5   may       261         1     -1         0  unknown  no  \n",
            "1  unknown    5   may       151         1     -1         0  unknown  no  \n",
            "2  unknown    5   may        76         1     -1         0  unknown  no  \n",
            "3  unknown    5   may        92         1     -1         0  unknown  no  \n",
            "4  unknown    5   may       198         1     -1         0  unknown  no  \n"
          ]
        }
      ],
      "source": [
        "import pandas as pd\n",
        "#load the dataset bank .csv\n",
        "dataset = pd.read_csv(\"/content/drive/My Drive/maths/bank .csv\")\n",
        "#Display the dataframe\n",
        "print(dataset.head())"
      ]
    },
    {
      "cell_type": "markdown",
      "source": [
        "2. Check info of the DataFrame and identify following: (a) columns with dtypes=object (b) unique values of those columns. (c) check for the total number of null values in each column."
      ],
      "metadata": {
        "id": "6DI8o5dxDFz4"
      }
    },
    {
      "cell_type": "code",
      "source": [
        "import pandas as pd\n",
        "dataset.info() #Function to show the dataset info."
      ],
      "metadata": {
        "colab": {
          "base_uri": "https://localhost:8080/"
        },
        "id": "xsMRNHJ_DJ-g",
        "outputId": "2c7fcb7b-2294-4922-9fa5-b1af8a898df9"
      },
      "execution_count": null,
      "outputs": [
        {
          "output_type": "stream",
          "name": "stdout",
          "text": [
            "<class 'pandas.core.frame.DataFrame'>\n",
            "RangeIndex: 45211 entries, 0 to 45210\n",
            "Data columns (total 17 columns):\n",
            " #   Column     Non-Null Count  Dtype \n",
            "---  ------     --------------  ----- \n",
            " 0   age        45211 non-null  int64 \n",
            " 1   job        45211 non-null  object\n",
            " 2   marital    45211 non-null  object\n",
            " 3   education  45211 non-null  object\n",
            " 4   default    45211 non-null  object\n",
            " 5   balance    45211 non-null  int64 \n",
            " 6   housing    45211 non-null  object\n",
            " 7   loan       45211 non-null  object\n",
            " 8   contact    45211 non-null  object\n",
            " 9   day        45211 non-null  int64 \n",
            " 10  month      45211 non-null  object\n",
            " 11  duration   45211 non-null  int64 \n",
            " 12  campaign   45211 non-null  int64 \n",
            " 13  pdays      45211 non-null  int64 \n",
            " 14  previous   45211 non-null  int64 \n",
            " 15  poutcome   45211 non-null  object\n",
            " 16  y          45211 non-null  object\n",
            "dtypes: int64(7), object(10)\n",
            "memory usage: 5.9+ MB\n"
          ]
        }
      ]
    },
    {
      "cell_type": "markdown",
      "source": [
        "3. Drop all the columns with dtypes object and store in new DataFrame, also write the DataFrame in ”.csv” with name ”banknumericdata.csv”"
      ],
      "metadata": {
        "id": "2Esi0APeDMxN"
      }
    },
    {
      "cell_type": "code",
      "source": [
        "import pandas as pd\n",
        "object_columns = dataset.select_dtypes(include=['object']).columns\n",
        "print(\"Columns with dtype=object:\")\n",
        "print(object_columns)\n"
      ],
      "metadata": {
        "colab": {
          "base_uri": "https://localhost:8080/"
        },
        "id": "WuqMI44lDRu1",
        "outputId": "e242f9da-b56a-4104-a299-d53b7c8d5adc"
      },
      "execution_count": null,
      "outputs": [
        {
          "output_type": "stream",
          "name": "stdout",
          "text": [
            "Columns with dtype=object:\n",
            "Index(['job', 'marital', 'education', 'default', 'housing', 'loan', 'contact',\n",
            "       'month', 'poutcome', 'y'],\n",
            "      dtype='object')\n"
          ]
        }
      ]
    },
    {
      "cell_type": "markdown",
      "source": [
        "4. Read ”banknumericdata.csv” and Find the summary statistics."
      ],
      "metadata": {
        "id": "uFaQh99VDUyJ"
      }
    },
    {
      "cell_type": "code",
      "source": [
        "import pandas as pd\n",
        "object_columns = dataset.select_dtypes(include=['object']).columns\n",
        "\n",
        "# Print the unique values\n",
        "for column in object_columns:\n",
        "    unique_values = dataset[column].unique()\n",
        "    print(f\"Unique values in column '{column}':\")\n",
        "    print(unique_values)\n",
        "    print(\"\\n\")"
      ],
      "metadata": {
        "colab": {
          "base_uri": "https://localhost:8080/"
        },
        "id": "qT0qliHVDYMm",
        "outputId": "b8721984-e264-4774-e239-0de876195e41"
      },
      "execution_count": null,
      "outputs": [
        {
          "output_type": "stream",
          "name": "stdout",
          "text": [
            "Unique values in column 'job':\n",
            "['management' 'technician' 'entrepreneur' 'blue-collar' 'unknown'\n",
            " 'retired' 'admin.' 'services' 'self-employed' 'unemployed' 'housemaid'\n",
            " 'student']\n",
            "\n",
            "\n",
            "Unique values in column 'marital':\n",
            "['married' 'single' 'divorced']\n",
            "\n",
            "\n",
            "Unique values in column 'education':\n",
            "['tertiary' 'secondary' 'unknown' 'primary']\n",
            "\n",
            "\n",
            "Unique values in column 'default':\n",
            "['no' 'yes']\n",
            "\n",
            "\n",
            "Unique values in column 'housing':\n",
            "['yes' 'no']\n",
            "\n",
            "\n",
            "Unique values in column 'loan':\n",
            "['no' 'yes']\n",
            "\n",
            "\n",
            "Unique values in column 'contact':\n",
            "['unknown' 'cellular' 'telephone']\n",
            "\n",
            "\n",
            "Unique values in column 'month':\n",
            "['may' 'jun' 'jul' 'aug' 'oct' 'nov' 'dec' 'jan' 'feb' 'mar' 'apr' 'sep']\n",
            "\n",
            "\n",
            "Unique values in column 'poutcome':\n",
            "['unknown' 'failure' 'other' 'success']\n",
            "\n",
            "\n",
            "Unique values in column 'y':\n",
            "['no' 'yes']\n",
            "\n",
            "\n"
          ]
        }
      ]
    },
    {
      "cell_type": "markdown",
      "source": [
        "Problem 2 - Data Imputations:\n",
        "\n",
        "Complete all the following Task:\n",
        "\n",
        "• Dataset for the Task: \"medical_student.csv\"\n",
        "\n",
        "Double-click (or enter) to edit\n",
        "\n",
        "1. Load the provided dataset and import in pandas DataFrame."
      ],
      "metadata": {
        "id": "eVvTlNkLDa15"
      }
    },
    {
      "cell_type": "code",
      "source": [
        "import pandas as pd\n",
        "null = dataset.isnull().sum()\n",
        "print(\"Total numbers of null values in each column: \")\n",
        "print(null)"
      ],
      "metadata": {
        "colab": {
          "base_uri": "https://localhost:8080/"
        },
        "id": "KE02xMd9DeMt",
        "outputId": "671446d6-2cc0-4cd6-f35c-2f5a69e8a981"
      },
      "execution_count": null,
      "outputs": [
        {
          "output_type": "stream",
          "name": "stdout",
          "text": [
            "Total numbers of null values in each column: \n",
            "age          0\n",
            "job          0\n",
            "marital      0\n",
            "education    0\n",
            "default      0\n",
            "balance      0\n",
            "housing      0\n",
            "loan         0\n",
            "contact      0\n",
            "day          0\n",
            "month        0\n",
            "duration     0\n",
            "campaign     0\n",
            "pdays        0\n",
            "previous     0\n",
            "poutcome     0\n",
            "y            0\n",
            "dtype: int64\n"
          ]
        }
      ]
    },
    {
      "cell_type": "markdown",
      "source": [
        "2.Check info of the DataFrame and identify column with missing (null) values."
      ],
      "metadata": {
        "id": "i9-N-90SDiFY"
      }
    },
    {
      "cell_type": "code",
      "source": [
        "import pandas as pd\n",
        "numeric_data = dataset.select_dtypes(exclude =['object'])\n",
        "numeric_data.to_csv('banknumericdata.csv', index = False)\n",
        "print(numeric_data.head())"
      ],
      "metadata": {
        "colab": {
          "base_uri": "https://localhost:8080/"
        },
        "id": "D5C5M6nPDjEV",
        "outputId": "703c3ca1-32ce-4267-f2e5-21415c3d1486"
      },
      "execution_count": null,
      "outputs": [
        {
          "output_type": "stream",
          "name": "stdout",
          "text": [
            "   age  balance  day  duration  campaign  pdays  previous\n",
            "0   58     2143    5       261         1     -1         0\n",
            "1   44       29    5       151         1     -1         0\n",
            "2   33        2    5        76         1     -1         0\n",
            "3   47     1506    5        92         1     -1         0\n",
            "4   33        1    5       198         1     -1         0\n"
          ]
        }
      ]
    },
    {
      "cell_type": "markdown",
      "source": [
        "3. For the column with missing values fill the values using various techniques we discussed above. Try to explain why did you select the particular methods for particular column."
      ],
      "metadata": {
        "id": "YnhLMWbMDlMm"
      }
    },
    {
      "cell_type": "code",
      "source": [
        "import pandas as pd\n",
        "numeric_data = pd.read_csv('banknumericdata.csv')\n",
        "summary_statistics = numeric_data.describe()\n",
        "print(f\"Summery Statistics: \\n {summary_statistics}\")"
      ],
      "metadata": {
        "colab": {
          "base_uri": "https://localhost:8080/"
        },
        "id": "JpAEh8OADpJ8",
        "outputId": "e8df4b5e-03a8-4029-a889-8f538978a341"
      },
      "execution_count": null,
      "outputs": [
        {
          "output_type": "stream",
          "name": "stdout",
          "text": [
            "Summery Statistics: \n",
            "                 age        balance           day      duration      campaign  \\\n",
            "count  45211.000000   45211.000000  45211.000000  45211.000000  45211.000000   \n",
            "mean      40.936210    1362.272058     15.806419    258.163080      2.763841   \n",
            "std       10.618762    3044.765829      8.322476    257.527812      3.098021   \n",
            "min       18.000000   -8019.000000      1.000000      0.000000      1.000000   \n",
            "25%       33.000000      72.000000      8.000000    103.000000      1.000000   \n",
            "50%       39.000000     448.000000     16.000000    180.000000      2.000000   \n",
            "75%       48.000000    1428.000000     21.000000    319.000000      3.000000   \n",
            "max       95.000000  102127.000000     31.000000   4918.000000     63.000000   \n",
            "\n",
            "              pdays      previous  \n",
            "count  45211.000000  45211.000000  \n",
            "mean      40.197828      0.580323  \n",
            "std      100.128746      2.303441  \n",
            "min       -1.000000      0.000000  \n",
            "25%       -1.000000      0.000000  \n",
            "50%       -1.000000      0.000000  \n",
            "75%       -1.000000      0.000000  \n",
            "max      871.000000    275.000000  \n"
          ]
        }
      ]
    },
    {
      "cell_type": "markdown",
      "source": [
        "4. Check for any duplicate values present in Dataset and do necessary to manage the duplicate items. {Hint: dataset.duplicated.sum()}"
      ],
      "metadata": {
        "id": "gC9YaLyRDsEc"
      }
    },
    {
      "cell_type": "code",
      "source": [
        "import pandas as pd\n",
        "df = pd.read_csv('/content/drive/My Drive/maths/medical_students_dataset.csv')\n",
        "#display the first few rows\n",
        "print(df.head)\n"
      ],
      "metadata": {
        "colab": {
          "base_uri": "https://localhost:8080/"
        },
        "id": "AQZxePWNDv9l",
        "outputId": "2bef4bd7-7625-4e63-a441-052f95486c3f"
      },
      "execution_count": null,
      "outputs": [
        {
          "output_type": "stream",
          "name": "stdout",
          "text": [
            "<bound method NDFrame.head of         Student ID   Age  Gender      Height     Weight Blood Type        BMI  \\\n",
            "0              1.0  18.0  Female  161.777924  72.354947          O  27.645835   \n",
            "1              2.0   NaN    Male  152.069157  47.630941          B        NaN   \n",
            "2              3.0  32.0  Female  182.537664  55.741083          A  16.729017   \n",
            "3              NaN  30.0    Male  182.112867  63.332207          B  19.096042   \n",
            "4              5.0  23.0  Female         NaN  46.234173          O        NaN   \n",
            "...            ...   ...     ...         ...        ...        ...        ...   \n",
            "199995         NaN  24.0    Male  176.503260  95.756997          B  30.737254   \n",
            "199996     99997.0  29.0  Female  163.917675  45.225194        NaN  16.831734   \n",
            "199997     99998.0  34.0  Female         NaN  99.648914        NaN  33.189303   \n",
            "199998     99999.0  30.0  Female  156.446944  50.142824          A  20.486823   \n",
            "199999    100000.0  20.0  Female  153.927409  99.928405          O  42.175189   \n",
            "\n",
            "        Temperature  Heart Rate  Blood Pressure  Cholesterol Diabetes Smoking  \n",
            "0               NaN        95.0           109.0        203.0       No     NaN  \n",
            "1         98.714977        93.0           104.0        163.0       No      No  \n",
            "2         98.260293        76.0           130.0        216.0      Yes      No  \n",
            "3         98.839605        99.0           112.0        141.0       No     Yes  \n",
            "4         98.480008        95.0             NaN        231.0       No      No  \n",
            "...             ...         ...             ...          ...      ...     ...  \n",
            "199995    99.170685        65.0           121.0        130.0       No      No  \n",
            "199996    97.865785        62.0           125.0        198.0       No     Yes  \n",
            "199997    98.768210        60.0            90.0        154.0      NaN      No  \n",
            "199998    98.994212        61.0           106.0        225.0       No      No  \n",
            "199999    98.595817        95.0           133.0        132.0      NaN      No  \n",
            "\n",
            "[200000 rows x 13 columns]>\n"
          ]
        }
      ]
    },
    {
      "cell_type": "markdown",
      "source": [
        "3.2 Exercises - Data Cleaning and Transformations with ”Titanic Dataset”: Dataset Used: \"titanic.csv\"\n",
        "\n",
        "Problem - 1: Create a DataFrame that is subsetted for the columns ’Name’, ’Pclass’, ’Sex’, ’Age’, ’Fare’, and ’Survived’. Retain only those rows where ’Pclass’ is equal to 1, representing first-class passengers. What is the mean, median, maximum value, and minimum value of the ’Fare’ column?"
      ],
      "metadata": {
        "id": "x5hwNFc5DzVy"
      }
    },
    {
      "cell_type": "code",
      "source": [
        "import pandas as pd\n",
        "#checking for null value\n",
        "dataset = pd.read_csv('/content/drive/My Drive/maths/medical_students_dataset.csv')\n",
        "null = dataset.isnull().sum()\n",
        "print(df.info())\n",
        "print(\"Total numbers of null values in each column: \")\n",
        "print(null)"
      ],
      "metadata": {
        "colab": {
          "base_uri": "https://localhost:8080/"
        },
        "id": "TgIr_gO-D1aj",
        "outputId": "5a743f37-8fd1-4f20-9b88-a02eb798bff1"
      },
      "execution_count": null,
      "outputs": [
        {
          "output_type": "stream",
          "name": "stdout",
          "text": [
            "<class 'pandas.core.frame.DataFrame'>\n",
            "RangeIndex: 200000 entries, 0 to 199999\n",
            "Data columns (total 13 columns):\n",
            " #   Column          Non-Null Count   Dtype  \n",
            "---  ------          --------------   -----  \n",
            " 0   Student ID      180000 non-null  float64\n",
            " 1   Age             180000 non-null  float64\n",
            " 2   Gender          180000 non-null  object \n",
            " 3   Height          180000 non-null  float64\n",
            " 4   Weight          180000 non-null  float64\n",
            " 5   Blood Type      180000 non-null  object \n",
            " 6   BMI             180000 non-null  float64\n",
            " 7   Temperature     180000 non-null  float64\n",
            " 8   Heart Rate      180000 non-null  float64\n",
            " 9   Blood Pressure  180000 non-null  float64\n",
            " 10  Cholesterol     180000 non-null  float64\n",
            " 11  Diabetes        180000 non-null  object \n",
            " 12  Smoking         180000 non-null  object \n",
            "dtypes: float64(9), object(4)\n",
            "memory usage: 19.8+ MB\n",
            "None\n",
            "Total numbers of null values in each column: \n",
            "Student ID        20000\n",
            "Age               20000\n",
            "Gender            20000\n",
            "Height            20000\n",
            "Weight            20000\n",
            "Blood Type        20000\n",
            "BMI               20000\n",
            "Temperature       20000\n",
            "Heart Rate        20000\n",
            "Blood Pressure    20000\n",
            "Cholesterol       20000\n",
            "Diabetes          20000\n",
            "Smoking           20000\n",
            "dtype: int64\n"
          ]
        }
      ]
    },
    {
      "cell_type": "markdown",
      "source": [
        "Problem - 2: How many null values are contained in the ’Age’ column in your subsetted DataFrame? Once you’ve found this out, drop them from your DataFrame."
      ],
      "metadata": {
        "id": "M70orfNSD5NA"
      }
    },
    {
      "cell_type": "code",
      "source": [
        "import pandas as pd\n",
        "\n",
        "# Load your dataset\n",
        "dataset = pd.read_csv('/content/drive/My Drive/maths/medical_students_dataset.csv')\n",
        "\n",
        "# Check for duplicate values\n",
        "duplicate_count = dataset.duplicated().sum()\n",
        "print(f'Total number of duplicate rows: {duplicate_count}')\n"
      ],
      "metadata": {
        "colab": {
          "base_uri": "https://localhost:8080/"
        },
        "id": "SGl69b-XD6IR",
        "outputId": "cf992916-8518-4193-bb42-a65496e8681b"
      },
      "execution_count": null,
      "outputs": [
        {
          "output_type": "stream",
          "name": "stdout",
          "text": [
            "Total number of duplicate rows: 7644\n"
          ]
        }
      ]
    },
    {
      "cell_type": "markdown",
      "source": [
        "Problem - 3:\n",
        "\n",
        "The ’Embarked’ column in the Titanic dataset contains categorical data representing the ports of embarka- tion:\n",
        "\n",
        "• ’C’ for Cherbourg • ’Q’ for Queenstown • ’S’ for Southampton\n",
        "\n",
        "Task:\n",
        "\n",
        "1. Use one-hot encoding to convert the ’Embarked’ column into separate binary columns (’Embarked C’, ’Embarked Q’, ’Embarked S’)."
      ],
      "metadata": {
        "id": "Yx3SnN7HD9kt"
      }
    },
    {
      "cell_type": "code",
      "source": [
        "import pandas as pd\n",
        "dataset = pd.read_csv('/content/drive/My Drive/maths/Titanic-Dataset.csv')\n",
        "subset_df = dataset[['Name', 'Pclass', 'Sex', 'Age', 'Fare', 'Survived']]\n",
        "first_class_df = subset_df[subset_df['Pclass'] == 1]\n",
        "\n",
        "# Calculate the mean, median, maximum, and minimum values of the 'Fare' column\n",
        "mean_fare = first_class_df['Fare'].mean()\n",
        "median_fare = first_class_df['Fare'].median()\n",
        "max_fare = first_class_df['Fare'].max()\n",
        "min_fare = first_class_df['Fare'].min()\n",
        "\n",
        "print(f'Mean Fare: {mean_fare}')\n",
        "print(f'Median Fare: {median_fare}')\n",
        "print(f'Maximum Fare: {max_fare}')\n",
        "print(f'Minimum Fare: {min_fare}')"
      ],
      "metadata": {
        "colab": {
          "base_uri": "https://localhost:8080/"
        },
        "id": "hRfUbqCjD_iL",
        "outputId": "e1189b78-ba75-4079-abb9-438498e38f4c"
      },
      "execution_count": null,
      "outputs": [
        {
          "output_type": "stream",
          "name": "stdout",
          "text": [
            "Mean Fare: 84.1546875\n",
            "Median Fare: 60.287499999999994\n",
            "Maximum Fare: 512.3292\n",
            "Minimum Fare: 0.0\n"
          ]
        }
      ]
    },
    {
      "cell_type": "markdown",
      "source": [
        "2. Add these new columns to the original DataFrame."
      ],
      "metadata": {
        "id": "YrVW64XiEDU7"
      }
    },
    {
      "cell_type": "code",
      "source": [
        "import pandas as pd\n",
        "dataset = pd.read_csv('/content/drive/My Drive/maths/Titanic-Dataset.csv')\n",
        "subset_df = dataset[['Name', 'Pclass', 'Sex', 'Age', 'Fare', 'Survived']]\n",
        "\n",
        "first_class_df = subset_df[subset_df['Pclass'] == 1]\n",
        "\n",
        "null_age_count = first_class_df['Age'].isnull().sum()\n",
        "print(f'Total number of null values in the Age column: {null_age_count}')\n",
        "\n",
        "first_class_df_cleaned = first_class_df.dropna(subset=['Age'])\n",
        "print(first_class_df_cleaned)\n"
      ],
      "metadata": {
        "colab": {
          "base_uri": "https://localhost:8080/"
        },
        "id": "8Zpp1aiCEE67",
        "outputId": "b06d3d76-da1e-49ed-fcc5-ae3f0c7c33e3"
      },
      "execution_count": null,
      "outputs": [
        {
          "output_type": "stream",
          "name": "stdout",
          "text": [
            "Total number of null values in the Age column: 30\n",
            "                                                  Name  Pclass     Sex   Age  \\\n",
            "1    Cumings, Mrs. John Bradley (Florence Briggs Th...       1  female  38.0   \n",
            "3         Futrelle, Mrs. Jacques Heath (Lily May Peel)       1  female  35.0   \n",
            "6                              McCarthy, Mr. Timothy J       1    male  54.0   \n",
            "11                            Bonnell, Miss. Elizabeth       1  female  58.0   \n",
            "23                        Sloper, Mr. William Thompson       1    male  28.0   \n",
            "..                                                 ...     ...     ...   ...   \n",
            "871   Beckwith, Mrs. Richard Leonard (Sallie Monypeny)       1  female  47.0   \n",
            "872                           Carlsson, Mr. Frans Olof       1    male  33.0   \n",
            "879      Potter, Mrs. Thomas Jr (Lily Alexenia Wilson)       1  female  56.0   \n",
            "887                       Graham, Miss. Margaret Edith       1  female  19.0   \n",
            "889                              Behr, Mr. Karl Howell       1    male  26.0   \n",
            "\n",
            "        Fare  Survived  \n",
            "1    71.2833         1  \n",
            "3    53.1000         1  \n",
            "6    51.8625         0  \n",
            "11   26.5500         1  \n",
            "23   35.5000         1  \n",
            "..       ...       ...  \n",
            "871  52.5542         1  \n",
            "872   5.0000         0  \n",
            "879  83.1583         1  \n",
            "887  30.0000         1  \n",
            "889  30.0000         1  \n",
            "\n",
            "[186 rows x 6 columns]\n"
          ]
        }
      ]
    },
    {
      "cell_type": "markdown",
      "source": [
        "3. Drop the original ’Embarked’ column."
      ],
      "metadata": {
        "id": "WBGDKcFoEIN5"
      }
    },
    {
      "cell_type": "code",
      "source": [
        "import pandas as pd\n",
        "dataset = pd.read_csv('/content/drive/My Drive/maths/Titanic-Dataset.csv')\n",
        "\n",
        "embarked_dummies = pd.get_dummies(dataset['Embarked'], prefix='Embarked')\n",
        "\n",
        "dataset = pd.concat([dataset, embarked_dummies], axis=1)\n",
        "\n",
        "dataset.drop('Embarked', axis=1, inplace=True)\n",
        "print(dataset.head())\n"
      ],
      "metadata": {
        "colab": {
          "base_uri": "https://localhost:8080/"
        },
        "id": "lPt2DDZREL4f",
        "outputId": "3250c854-3bd7-4abc-8d33-b411f20d85f1"
      },
      "execution_count": null,
      "outputs": [
        {
          "output_type": "stream",
          "name": "stdout",
          "text": [
            "   PassengerId  Survived  Pclass  \\\n",
            "0            1         0       3   \n",
            "1            2         1       1   \n",
            "2            3         1       3   \n",
            "3            4         1       1   \n",
            "4            5         0       3   \n",
            "\n",
            "                                                Name     Sex   Age  SibSp  \\\n",
            "0                            Braund, Mr. Owen Harris    male  22.0      1   \n",
            "1  Cumings, Mrs. John Bradley (Florence Briggs Th...  female  38.0      1   \n",
            "2                             Heikkinen, Miss. Laina  female  26.0      0   \n",
            "3       Futrelle, Mrs. Jacques Heath (Lily May Peel)  female  35.0      1   \n",
            "4                           Allen, Mr. William Henry    male  35.0      0   \n",
            "\n",
            "   Parch            Ticket     Fare Cabin  Embarked_C  Embarked_Q  Embarked_S  \n",
            "0      0         A/5 21171   7.2500   NaN       False       False        True  \n",
            "1      0          PC 17599  71.2833   C85        True       False       False  \n",
            "2      0  STON/O2. 3101282   7.9250   NaN       False       False        True  \n",
            "3      0            113803  53.1000  C123       False       False        True  \n",
            "4      0            373450   8.0500   NaN       False       False        True  \n"
          ]
        }
      ]
    },
    {
      "cell_type": "markdown",
      "source": [
        "4. Print the first few rows of the modified DataFrame to verify the changes."
      ],
      "metadata": {
        "id": "5swkKylLEQTE"
      }
    },
    {
      "cell_type": "code",
      "source": [
        "import pandas as pd\n",
        "\n",
        "# Load your dataset\n",
        "dataset = pd.read_csv('/content/drive/My Drive/maths/Titanic-Dataset.csv')\n",
        "\n",
        "# Perform one-hot encoding on the 'Embarked' column\n",
        "embarked_dummies = pd.get_dummies(dataset['Embarked'], prefix='Embarked')\n",
        "\n",
        "# Add the new columns to the original DataFrame\n",
        "dataset = pd.concat([dataset, embarked_dummies], axis=1)\n",
        "\n",
        "# Drop the original 'Embarked' column\n",
        "dataset.drop('Embarked', axis=1, inplace=True)\n",
        "\n",
        "# Print the first few rows of the modified DataFrame to verify the changes\n",
        "print(dataset.head())\n"
      ],
      "metadata": {
        "colab": {
          "base_uri": "https://localhost:8080/"
        },
        "id": "Fo2VHenwESG4",
        "outputId": "66f97a7b-6947-4a0e-c8be-a78ed2e042c8"
      },
      "execution_count": null,
      "outputs": [
        {
          "output_type": "stream",
          "name": "stdout",
          "text": [
            "   PassengerId  Survived  Pclass  \\\n",
            "0            1         0       3   \n",
            "1            2         1       1   \n",
            "2            3         1       3   \n",
            "3            4         1       1   \n",
            "4            5         0       3   \n",
            "\n",
            "                                                Name     Sex   Age  SibSp  \\\n",
            "0                            Braund, Mr. Owen Harris    male  22.0      1   \n",
            "1  Cumings, Mrs. John Bradley (Florence Briggs Th...  female  38.0      1   \n",
            "2                             Heikkinen, Miss. Laina  female  26.0      0   \n",
            "3       Futrelle, Mrs. Jacques Heath (Lily May Peel)  female  35.0      1   \n",
            "4                           Allen, Mr. William Henry    male  35.0      0   \n",
            "\n",
            "   Parch            Ticket     Fare Cabin  Embarked_C  Embarked_Q  Embarked_S  \n",
            "0      0         A/5 21171   7.2500   NaN       False       False        True  \n",
            "1      0          PC 17599  71.2833   C85        True       False       False  \n",
            "2      0  STON/O2. 3101282   7.9250   NaN       False       False        True  \n",
            "3      0            113803  53.1000  C123       False       False        True  \n",
            "4      0            373450   8.0500   NaN       False       False        True  \n"
          ]
        }
      ]
    },
    {
      "cell_type": "markdown",
      "source": [
        "Problem - 4: Compare the mean survival rates (’Survived’) for the different groups in the ’Sex’ column. Draw a visual- ization to show how the survival distributions vary by gender."
      ],
      "metadata": {
        "id": "kXhbZh1VEXcD"
      }
    },
    {
      "cell_type": "code",
      "source": [
        "import pandas as pd\n",
        "import matplotlib.pyplot as plt\n",
        "dataset = pd.read_csv('/content/drive/My Drive/maths/Titanic-Dataset.csv')\n",
        "\n",
        "#Calculate mean survival rates for different groups in the 'Sex' column\n",
        "mean_survival_rates = dataset.groupby('Sex')['Survived'].mean()\n",
        "print(mean_survival_rates)\n",
        "#Draw the visualization\n",
        "plt.figure(figsize=(10, 6))\n",
        "dataset.groupby('Sex')['Survived'].mean().plot(kind='bar', color=['blue', 'orange'])\n",
        "plt.title('Survival Rates by Gender')\n",
        "plt.xlabel('Gender')\n",
        "plt.ylabel('Survival Rate')\n",
        "plt.xticks(rotation=0)\n",
        "plt.show()\n",
        "[]"
      ],
      "metadata": {
        "colab": {
          "base_uri": "https://localhost:8080/",
          "height": 651
        },
        "id": "z8N6NFBgEcYa",
        "outputId": "9ec93215-c8fc-4516-c122-8e0b76051fd7"
      },
      "execution_count": null,
      "outputs": [
        {
          "output_type": "stream",
          "name": "stdout",
          "text": [
            "Sex\n",
            "female    0.742038\n",
            "male      0.188908\n",
            "Name: Survived, dtype: float64\n"
          ]
        },
        {
          "output_type": "display_data",
          "data": {
            "text/plain": [
              "<Figure size 1000x600 with 1 Axes>"
            ],
            "image/png": "[encoded data removed]"
          },
          "metadata": {}
        },
        {
          "output_type": "execute_result",
          "data": {
            "text/plain": [
              "[]"
            ]
          },
          "metadata": {},
          "execution_count": 16
        }
      ]
    },
    {
      "cell_type": "markdown",
      "source": [
        "Problem - 5: Draw a visualization that breaks your visualization from Exercise 3 down by the port of embarkation (’Em- barked’). In this instance, compare the ports ’C’ (Cherbourg), ’Q’ (Queenstown), and ’S’ (Southampton)."
      ],
      "metadata": {
        "id": "w7C5qaXrEfyX"
      }
    },
    {
      "cell_type": "code",
      "source": [
        "import pandas as pd\n",
        "import seaborn as sns\n",
        "import matplotlib.pyplot as plt\n",
        "\n",
        "# Mount Google Drive (if running in Colab)\n",
        "from google.colab import drive\n",
        "drive.mount('/content/drive')\n",
        "\n",
        "# Load the Titanic dataset\n",
        "dataset = '/content/drive/My Drive/maths/Titanic-Dataset.csv'\n",
        "titanic = pd.read_csv(dataset)\n",
        "\n",
        "# Filter the necessary columns\n",
        "survived_gender_embarked = titanic[['Survived', 'Sex', 'Embarked']]\n",
        "\n",
        "# Drop rows with missing 'Embarked' data\n",
        "survived_gender_embarked = survived_gender_embarked.dropna(subset=['Embarked'])\n",
        "\n",
        "# Create a grouped visualization\n",
        "plt.figure(figsize=(10, 6))\n",
        "sns.countplot(\n",
        "    data=survived_gender_embarked,\n",
        "    x='Embarked',\n",
        "    hue='Sex',\n",
        "    palette='Set2',\n",
        "    order=['C', 'Q', 'S']\n",
        ")\n",
        "\n",
        "# Add titles and labels\n",
        "plt.title('Passenger Gender Distribution by Port of Embarkation', fontsize=16)\n",
        "plt.xlabel('Port of Embarkation', fontsize=12)\n",
        "plt.ylabel('Number of Passengers', fontsize=12)\n",
        "plt.legend(title='Gender', fontsize=10)\n",
        "plt.show()\n"
      ],
      "metadata": {
        "colab": {
          "base_uri": "https://localhost:8080/",
          "height": 587
        },
        "id": "pPNAlEUWEifA",
        "outputId": "7c762f4c-a3a3-4542-bf96-f07f5b3d0e0b"
      },
      "execution_count": null,
      "outputs": [
        {
          "output_type": "stream",
          "name": "stdout",
          "text": [
            "Drive already mounted at /content/drive; to attempt to forcibly remount, call drive.mount(\"/content/drive\", force_remount=True).\n"
          ]
        },
        {
          "output_type": "display_data",
          "data": {
            "text/plain": [
              "<Figure size 1000x600 with 1 Axes>"
            ],
            "image/png": "[encoded data removed]"
          },
          "metadata": {}
        }
      ]
    }
  ]
}