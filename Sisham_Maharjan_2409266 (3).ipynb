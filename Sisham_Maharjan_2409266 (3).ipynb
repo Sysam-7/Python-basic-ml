{
  "nbformat": 4,
  "nbformat_minor": 0,
  "metadata": {
    "colab": {
      "provenance": []
    },
    "kernelspec": {
      "name": "python3",
      "display_name": "Python 3"
    },
    "language_info": {
      "name": "python"
    }
  },
  "cells": [
    {
      "cell_type": "code",
      "execution_count": 1,
      "metadata": {
        "colab": {
          "base_uri": "https://localhost:8080/",
          "height": 0
        },
        "id": "4ohun51d6BfH",
        "outputId": "28f7b505-dd01-4e4c-9c4f-f1ad8f5d3716"
      },
      "outputs": [
        {
          "output_type": "stream",
          "name": "stdout",
          "text": [
            " A zeros array is \n",
            " [[0. 0. 0.]\n",
            " [0. 0. 0.]] with dimensions  (2, 3) \n",
            "\n"
          ]
        }
      ],
      "source": [
        "import numpy as np\n",
        "zeros_arr = np.zeros ((2 ,3) )\n",
        "print (\" A zeros array is \\n\", zeros_arr ,\"with dimensions \", zeros_arr.shape , \"\\n\")"
      ]
    },
    {
      "cell_type": "code",
      "source": [
        "import numpy as np\n",
        "\n",
        "arr1d = np . array ([0 , 1 , 2 , 3 , 4 , 5])\n",
        "arr2d = np . array ([[0 , 1 , 2] , [3 , 4 , 5] , [6 , 7 , 8]])\n",
        "arr3d = np . array ([[[0 , 1] , [2 , 3]] , [[4 , 5] , [6 , 7]] , [[8 ,9] , [10 , 11]]])\n",
        "\n",
        "print (\" Basic :\", arr1d [1:4] , arr2d [1:3 , 0:2] , arr3d [1:2 , 0:2 ,\n",
        "1:2])\n",
        "\n",
        "\n",
        "print (\" Step :\", arr1d [1:5:2] , arr2d [::2 , 1::2] , arr3d [::2 ,\n",
        "::2 , 1::2])\n"
      ],
      "metadata": {
        "colab": {
          "base_uri": "https://localhost:8080/",
          "height": 0
        },
        "id": "Li6-RuuE6V7Z",
        "outputId": "ebd4c45b-2e37-406b-d2ae-2ede5c1fcb7c"
      },
      "execution_count": 2,
      "outputs": [
        {
          "output_type": "stream",
          "name": "stdout",
          "text": [
            " Basic : [1 2 3] [[3 4]\n",
            " [6 7]] [[[5]\n",
            "  [7]]]\n",
            " Step : [1 3] [[1]\n",
            " [7]] [[[1]]\n",
            "\n",
            " [[9]]]\n"
          ]
        }
      ]
    },
    {
      "cell_type": "markdown",
      "source": [
        "Problem 1: Array Creation"
      ],
      "metadata": {
        "id": "UyarQmyA8qUI"
      }
    },
    {
      "cell_type": "code",
      "source": [
        "import numpy as np\n",
        "empty_arr = np.empty ((2,2))\n",
        "print(empty_arr)"
      ],
      "metadata": {
        "colab": {
          "base_uri": "https://localhost:8080/",
          "height": 0
        },
        "id": "6ooRaUXl6X2s",
        "outputId": "5889d34c-1fcf-4242-a2e4-c0d7ecaf0c01"
      },
      "execution_count": 3,
      "outputs": [
        {
          "output_type": "stream",
          "name": "stdout",
          "text": [
            "[[4.88972352e-310 0.00000000e+000]\n",
            " [2.96439388e-323 3.45845952e-323]]\n"
          ]
        }
      ]
    },
    {
      "cell_type": "code",
      "source": [
        "import numpy as np\n",
        "ones_array = np.ones((4,2))\n",
        "print(ones_array)"
      ],
      "metadata": {
        "colab": {
          "base_uri": "https://localhost:8080/",
          "height": 0
        },
        "id": "YzL2XPiX6d4I",
        "outputId": "b2149aaf-571f-41d7-e1b0-617ea74c4e8b"
      },
      "execution_count": 4,
      "outputs": [
        {
          "output_type": "stream",
          "name": "stdout",
          "text": [
            "[[1. 1.]\n",
            " [1. 1.]\n",
            " [1. 1.]\n",
            " [1. 1.]]\n"
          ]
        }
      ]
    },
    {
      "cell_type": "code",
      "source": [
        "shape = (3,2)\n",
        "dtype = np.int32\n",
        "fill_value = 7\n",
        "filled_array = np.full(shape, fill_value, dtype=dtype)\n",
        "print(filled_array)"
      ],
      "metadata": {
        "colab": {
          "base_uri": "https://localhost:8080/",
          "height": 0
        },
        "id": "oOA1AgZM6fzx",
        "outputId": "b82e2d81-b315-48df-9914-6cc7f0263b51"
      },
      "execution_count": 5,
      "outputs": [
        {
          "output_type": "stream",
          "name": "stdout",
          "text": [
            "[[7 7]\n",
            " [7 7]\n",
            " [7 7]]\n"
          ]
        }
      ]
    },
    {
      "cell_type": "code",
      "source": [
        "import numpy as np\n",
        "original_array = np.array([[1, 2, 3], [4, 5, 6]], dtype=np.float64)\n",
        "zeros_array = np.zeros_like(original_array)\n",
        "print(zeros_array)"
      ],
      "metadata": {
        "colab": {
          "base_uri": "https://localhost:8080/",
          "height": 0
        },
        "id": "_T4NyqSL6qYN",
        "outputId": "f500feb8-08f4-4856-e3c2-45984822fd33"
      },
      "execution_count": 6,
      "outputs": [
        {
          "output_type": "stream",
          "name": "stdout",
          "text": [
            "[[0. 0. 0.]\n",
            " [0. 0. 0.]]\n"
          ]
        }
      ]
    },
    {
      "cell_type": "code",
      "source": [
        "import numpy as np\n",
        "\n",
        "original_array = np.array([[1, 2, 3], [4, 5, 6]], dtype=np.int32)\n",
        "ones_array = np.ones_like(original_array)\n",
        "print(ones_array)"
      ],
      "metadata": {
        "colab": {
          "base_uri": "https://localhost:8080/",
          "height": 0
        },
        "id": "dWAhsfdo6rO3",
        "outputId": "9e02223d-164d-4e2d-87ec-c9d1df14383b"
      },
      "execution_count": 7,
      "outputs": [
        {
          "output_type": "stream",
          "name": "stdout",
          "text": [
            "[[1 1 1]\n",
            " [1 1 1]]\n"
          ]
        }
      ]
    },
    {
      "cell_type": "code",
      "source": [
        "new_list = [1,2,3,4]\n",
        "numpy_array = np.array(new_list)\n",
        "print(numpy_array)"
      ],
      "metadata": {
        "colab": {
          "base_uri": "https://localhost:8080/",
          "height": 0
        },
        "id": "1TN95f516ztE",
        "outputId": "cbe37efa-1ee5-4c8e-fb79-edbb3f5e4453"
      },
      "execution_count": 8,
      "outputs": [
        {
          "output_type": "stream",
          "name": "stdout",
          "text": [
            "[1 2 3 4]\n"
          ]
        }
      ]
    },
    {
      "cell_type": "markdown",
      "source": [
        "Problem 2: Array Multiplication"
      ],
      "metadata": {
        "id": "6Jab1O8B8xdA"
      }
    },
    {
      "cell_type": "code",
      "source": [
        "import numpy as np\n",
        "array_range = np.arange(10,50)\n",
        "print(array_range)"
      ],
      "metadata": {
        "colab": {
          "base_uri": "https://localhost:8080/",
          "height": 0
        },
        "id": "8mwKS7eP65-m",
        "outputId": "47fb10f6-26ac-449a-e73f-37fc3a3275bb"
      },
      "execution_count": 9,
      "outputs": [
        {
          "output_type": "stream",
          "name": "stdout",
          "text": [
            "[10 11 12 13 14 15 16 17 18 19 20 21 22 23 24 25 26 27 28 29 30 31 32 33\n",
            " 34 35 36 37 38 39 40 41 42 43 44 45 46 47 48 49]\n"
          ]
        }
      ]
    },
    {
      "cell_type": "code",
      "source": [
        "array_1d = np.arange(9)\n",
        "matrix_3x3 = array_1d.reshape((3, 3))\n",
        "print(matrix_3x3)"
      ],
      "metadata": {
        "colab": {
          "base_uri": "https://localhost:8080/",
          "height": 0
        },
        "id": "zO7PwnV16-Vm",
        "outputId": "796d0a01-7300-49ad-e952-ccd6d557497f"
      },
      "execution_count": 10,
      "outputs": [
        {
          "output_type": "stream",
          "name": "stdout",
          "text": [
            "[[0 1 2]\n",
            " [3 4 5]\n",
            " [6 7 8]]\n"
          ]
        }
      ]
    },
    {
      "cell_type": "code",
      "source": [
        "identity_matrix = np.eye(3)\n",
        "print(identity_matrix)"
      ],
      "metadata": {
        "colab": {
          "base_uri": "https://localhost:8080/",
          "height": 0
        },
        "id": "f_rXy2Cg7HJL",
        "outputId": "99c3a996-ff31-4c10-8a3d-037d3f7ec5c4"
      },
      "execution_count": 11,
      "outputs": [
        {
          "output_type": "stream",
          "name": "stdout",
          "text": [
            "[[1. 0. 0.]\n",
            " [0. 1. 0.]\n",
            " [0. 0. 1.]]\n"
          ]
        }
      ]
    },
    {
      "cell_type": "code",
      "source": [
        "import numpy as np\n",
        "random_array = np.random.random(30)\n",
        "mean_value = random_array.mean()\n",
        "print(mean_value)\n"
      ],
      "metadata": {
        "colab": {
          "base_uri": "https://localhost:8080/",
          "height": 0
        },
        "id": "JRXadlmG7JzX",
        "outputId": "87d0b2b3-cfc2-4164-a8ff-23f209b1da7f"
      },
      "execution_count": 12,
      "outputs": [
        {
          "output_type": "stream",
          "name": "stdout",
          "text": [
            "0.5148874843876547\n"
          ]
        }
      ]
    },
    {
      "cell_type": "code",
      "source": [
        "random_array = np.random.rand(10, 10)\n",
        "min_value = random_array.min()\n",
        "max_value = random_array.max()\n",
        "print(min_value, max_value)"
      ],
      "metadata": {
        "colab": {
          "base_uri": "https://localhost:8080/",
          "height": 0
        },
        "id": "5Q8lrXXO7OeA",
        "outputId": "99daca96-22d7-4189-fde7-a04393cdd93a"
      },
      "execution_count": 13,
      "outputs": [
        {
          "output_type": "stream",
          "name": "stdout",
          "text": [
            "0.020225870539055446 0.9957512285213882\n"
          ]
        }
      ]
    },
    {
      "cell_type": "code",
      "source": [
        "zeros_array = np.zeros(10)\n",
        "zeros_array[4] = 1\n",
        "print(zeros_array)"
      ],
      "metadata": {
        "colab": {
          "base_uri": "https://localhost:8080/",
          "height": 0
        },
        "id": "CQYnj15V7Rk4",
        "outputId": "dee0dd79-a6d3-42f5-af06-6472d6d4d50c"
      },
      "execution_count": 14,
      "outputs": [
        {
          "output_type": "stream",
          "name": "stdout",
          "text": [
            "[0. 0. 0. 0. 1. 0. 0. 0. 0. 0.]\n"
          ]
        }
      ]
    },
    {
      "cell_type": "code",
      "source": [
        "arr = np.array([1, 2, 0, 0, 4, 0])\n",
        "reversed_arr = arr[::-1]\n",
        "print(reversed_arr)"
      ],
      "metadata": {
        "colab": {
          "base_uri": "https://localhost:8080/",
          "height": 0
        },
        "id": "Orn5bER87V6K",
        "outputId": "af43dede-0335-4493-efbe-e62a7d4ed211"
      },
      "execution_count": 15,
      "outputs": [
        {
          "output_type": "stream",
          "name": "stdout",
          "text": [
            "[0 4 0 0 2 1]\n"
          ]
        }
      ]
    },
    {
      "cell_type": "code",
      "source": [
        "shape = (5,5)\n",
        "array_2d = np.ones(shape, dtype=int)\n",
        "array_2d[1:-1, 1:-1] = 0\n",
        "print(array_2d)"
      ],
      "metadata": {
        "colab": {
          "base_uri": "https://localhost:8080/",
          "height": 0
        },
        "id": "lhtfv23M7bDk",
        "outputId": "ed828ee8-d668-4349-a8cc-4e845f820af4"
      },
      "execution_count": 16,
      "outputs": [
        {
          "output_type": "stream",
          "name": "stdout",
          "text": [
            "[[1 1 1 1 1]\n",
            " [1 0 0 0 1]\n",
            " [1 0 0 0 1]\n",
            " [1 0 0 0 1]\n",
            " [1 1 1 1 1]]\n"
          ]
        }
      ]
    },
    {
      "cell_type": "code",
      "source": [
        "checkerboard = np.zeros((8,8), dtype=int)\n",
        "checkerboard[1::2, ::2] = 1\n",
        "checkerboard[::2, 1::2] = 1\n",
        "print(checkerboard)\n"
      ],
      "metadata": {
        "colab": {
          "base_uri": "https://localhost:8080/",
          "height": 0
        },
        "id": "vrUM3tCZ7cJc",
        "outputId": "921758c6-a5db-4019-970b-f7373098c0d7"
      },
      "execution_count": 17,
      "outputs": [
        {
          "output_type": "stream",
          "name": "stdout",
          "text": [
            "[[0 1 0 1 0 1 0 1]\n",
            " [1 0 1 0 1 0 1 0]\n",
            " [0 1 0 1 0 1 0 1]\n",
            " [1 0 1 0 1 0 1 0]\n",
            " [0 1 0 1 0 1 0 1]\n",
            " [1 0 1 0 1 0 1 0]\n",
            " [0 1 0 1 0 1 0 1]\n",
            " [1 0 1 0 1 0 1 0]]\n"
          ]
        }
      ]
    },
    {
      "cell_type": "markdown",
      "source": [
        "Problem 3: Array Operation\n"
      ],
      "metadata": {
        "id": "YoUakUWE7odr"
      }
    },
    {
      "cell_type": "code",
      "source": [
        "x = np.array([[1,2], [3,5]])\n",
        "y = np.array([[5,6], [7,8]])\n",
        "v = np.array([9,10])\n",
        "w = np.array([11,12])\n",
        "add_xy = x + y\n",
        "add_vw = v + w\n",
        "\n",
        "sub_xy = x - y\n",
        "sub_vw = v - w\n",
        "\n",
        "mult_xy = x * y\n",
        "mult_vw = v * w\n",
        "\n",
        "sq_x = x**2\n",
        "sq_y = y**2\n",
        "\n",
        "dot_vw = np.dot(v, w)\n",
        "dot_xv = np.dot(x, v)\n",
        "dot_xy = np.dot(x, y)\n",
        "\n",
        "concat_xy_row = np.concatenate((x, y), axis=0)\n",
        "concat_vw_col = np.concatenate((v[:, np.newaxis], w[:, np.newaxis]), axis=1)\n",
        "\n"
      ],
      "metadata": {
        "id": "6VrISm7G7i7m"
      },
      "execution_count": 18,
      "outputs": []
    },
    {
      "cell_type": "markdown",
      "source": [
        "Problem 4: Matrix Operation\n"
      ],
      "metadata": {
        "id": "23xLtHTC7vfh"
      }
    },
    {
      "cell_type": "code",
      "source": [
        "import numpy as np\n",
        "\n",
        "A = np.array([[3,4], [7,8]])\n",
        "A_inv = np.linalg.inv(A)\n",
        "I = np.dot(A, A_inv)\n",
        "print(I)"
      ],
      "metadata": {
        "colab": {
          "base_uri": "https://localhost:8080/"
        },
        "id": "HzfMEB-M7xNq",
        "outputId": "5bd05726-1901-46d7-a826-ee6fd951de34"
      },
      "execution_count": 19,
      "outputs": [
        {
          "output_type": "stream",
          "name": "stdout",
          "text": [
            "[[1.00000000e+00 0.00000000e+00]\n",
            " [1.77635684e-15 1.00000000e+00]]\n"
          ]
        }
      ]
    },
    {
      "cell_type": "code",
      "source": [
        "A = np.array([[3, 4], [7, 8]])\n",
        "B = np.array([[5, 3], [2, 1]])\n",
        "\n",
        "AB = np.dot(A, B)\n",
        "BA = np.dot(B, A)\n",
        "\n",
        "print(AB)\n",
        "print(BA)"
      ],
      "metadata": {
        "colab": {
          "base_uri": "https://localhost:8080/"
        },
        "id": "jPaDzCZ474sQ",
        "outputId": "2711c585-4ad5-485f-c467-f352ae1f67bd"
      },
      "execution_count": 20,
      "outputs": [
        {
          "output_type": "stream",
          "name": "stdout",
          "text": [
            "[[23 13]\n",
            " [51 29]]\n",
            "[[36 44]\n",
            " [13 16]]\n"
          ]
        }
      ]
    },
    {
      "cell_type": "code",
      "source": [
        "A = np.array([[3, 4], [7, 8]])\n",
        "B = np.array([[5, 3], [2, 1]])\n",
        "\n",
        "AB = np.dot(A, B)\n",
        "AB_T = AB.T\n",
        "\n",
        "B_T = B.T\n",
        "A_T = A.T\n",
        "BT_AT = np.dot(B_T, A_T)\n",
        "\n",
        "print(AB_T)\n",
        "print(BT_AT)"
      ],
      "metadata": {
        "colab": {
          "base_uri": "https://localhost:8080/"
        },
        "id": "rd2wW13E77RS",
        "outputId": "50d80801-d0bd-454e-8643-c7a8f09c7d1a"
      },
      "execution_count": 21,
      "outputs": [
        {
          "output_type": "stream",
          "name": "stdout",
          "text": [
            "[[23 51]\n",
            " [13 29]]\n",
            "[[23 51]\n",
            " [13 29]]\n"
          ]
        }
      ]
    },
    {
      "cell_type": "code",
      "source": [
        "A = np.array([[2, -3, 1], [1, -1, 2], [3, 1, -1]])\n",
        "b = np.array([-1, -3, 9])\n",
        "\n",
        "A_inv = np.linalg.inv(A)\n",
        "x = np.dot(A_inv, b)\n",
        "print(x)"
      ],
      "metadata": {
        "colab": {
          "base_uri": "https://localhost:8080/"
        },
        "id": "0jV2rjxQ791w",
        "outputId": "51b2cc8a-29e3-44b5-f815-39c8b49640ce"
      },
      "execution_count": 22,
      "outputs": [
        {
          "output_type": "stream",
          "name": "stdout",
          "text": [
            "[ 2.  1. -2.]\n"
          ]
        }
      ]
    },
    {
      "cell_type": "code",
      "source": [
        "\n",
        "A = np.array([[2, -3, 1], [1, -1, 2], [3, 1, -1]])\n",
        "b = np.array([-1, -3, 9])\n",
        "\n",
        "\n",
        "x = np.linalg.solve(A, b)\n",
        "\n",
        "print(x)"
      ],
      "metadata": {
        "colab": {
          "base_uri": "https://localhost:8080/"
        },
        "id": "M_wXqiFO8Bdq",
        "outputId": "f6ed56b5-4a48-420c-af9c-89d559ddc11e"
      },
      "execution_count": 23,
      "outputs": [
        {
          "output_type": "stream",
          "name": "stdout",
          "text": [
            "[ 2.  1. -2.]\n"
          ]
        }
      ]
    },
    {
      "cell_type": "markdown",
      "source": [
        "EXPERIMENT"
      ],
      "metadata": {
        "id": "bJkofT56YU3E"
      }
    },
    {
      "cell_type": "code",
      "source": [
        "import numpy as np\n",
        "import time\n",
        "\n",
        "# Define sizes\n",
        "list_size = 1_000_000\n",
        "matrix_size = 1000\n",
        "\n",
        "# Create lists and arrays\n",
        "list1 = [i for i in range(list_size)]\n",
        "list2 = [i for i in range(list_size)]\n",
        "\n",
        "array1 = np.array(list1)\n",
        "array2 = np.array(list2)\n",
        "\n",
        "# 1. Element-wise Addition\n",
        "# Python lists\n",
        "start_time = time.time()\n",
        "result_list_add = [list1[i] + list2[i] for i in range(list_size)]\n",
        "list_add_time = time.time() - start_time\n",
        "\n",
        "# NumPy arrays\n",
        "start_time = time.time()\n",
        "result_array_add = array1 + array2\n",
        "array_add_time = time.time() - start_time\n",
        "\n",
        "print(f\"Element-wise Addition: Python Lists = {list_add_time:.6f}s, NumPy Arrays = {array_add_time:.6f}s\")\n",
        "\n",
        "# 2. Element-wise Multiplication\n",
        "# Python lists\n",
        "start_time = time.time()\n",
        "result_list_mul = [list1[i] * list2[i] for i in range(list_size)]\n",
        "list_mul_time = time.time() - start_time\n",
        "\n",
        "# NumPy arrays\n",
        "start_time = time.time()\n",
        "result_array_mul = array1 * array2\n",
        "array_mul_time = time.time() - start_time\n",
        "\n",
        "print(f\"Element-wise Multiplication: Python Lists = {list_mul_time:.6f}s, NumPy Arrays = {array_mul_time:.6f}s\")\n",
        "\n",
        "# 3. Dot Product\n",
        "# Python lists\n",
        "start_time = time.time()\n",
        "result_list_dot = sum(list1[i] * list2[i] for i in range(list_size))\n",
        "list_dot_time = time.time() - start_time\n",
        "\n",
        "# NumPy arrays\n",
        "start_time = time.time()\n",
        "result_array_dot = np.dot(array1, array2)\n",
        "array_dot_time = time.time() - start_time\n",
        "\n",
        "print(f\"Dot Product: Python Lists = {list_dot_time:.6f}s, NumPy Arrays = {array_dot_time:.6f}s\")\n",
        "\n",
        "\n",
        "matrix1 = [[i for i in range(matrix_size)] for _ in range(matrix_size)]\n",
        "matrix2 = [[i for i in range(matrix_size)] for _ in range(matrix_size)]\n",
        "\n",
        "np_matrix1 = np.array(matrix1)\n",
        "np_matrix2 = np.array(matrix2)\n",
        "\n",
        "# Python lists\n",
        "start_time = time.time()\n",
        "result_matrix = [[sum(a * b for a, b in zip(matrix1_row, matrix2_col)) for matrix2_col in zip(*matrix2)] for matrix1_row in matrix1]\n",
        "matrix_mul_time = time.time() - start_time\n",
        "\n",
        "# NumPy arrays\n",
        "start_time = time.time()\n",
        "result_np_matrix = np.dot(np_matrix1, np_matrix2)\n",
        "np_matrix_mul_time = time.time() - start_time\n",
        "\n",
        "print(f\"Matrix Multiplication: Python Lists = {matrix_mul_time:.6f}s, NumPy Arrays = {np_matrix_mul_time:.6f}s\")"
      ],
      "metadata": {
        "colab": {
          "base_uri": "https://localhost:8080/"
        },
        "id": "J-p9Z8cbYV9U",
        "outputId": "67533013-e57b-474f-90da-c4b63d0b6f2f"
      },
      "execution_count": null,
      "outputs": [
        {
          "output_type": "stream",
          "name": "stdout",
          "text": [
            "Element-wise Addition: Python Lists = 0.162939s, NumPy Arrays = 0.003855s\n",
            "Element-wise Multiplication: Python Lists = 0.177233s, NumPy Arrays = 0.004251s\n",
            "Dot Product: Python Lists = 0.164470s, NumPy Arrays = 0.001741s\n"
          ]
        }
      ]
    }
  ]
}